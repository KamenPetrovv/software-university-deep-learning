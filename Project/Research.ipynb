{
 "cells": [
  {
   "cell_type": "markdown",
   "id": "062e5f97-8344-43a5-a9d7-1d84b62c6a8f",
   "metadata": {},
   "source": [
    "# Recognition of people talking in conference calls"
   ]
  },
  {
   "cell_type": "markdown",
   "id": "8312f144-fda4-4f6d-8bb8-c53be13df5fa",
   "metadata": {},
   "source": [
    "The idea is to create a tool that will help with the UX in a video call. \n",
    "\n",
    "Let's say there is a conference call and we have multiple people in the scene. We want to zoom in on the person talking for nicer UX.\n",
    "If we have multiple people talking at the same time (or back and forth ) we zoom in so that both of these people are in the shot."
   ]
  },
  {
   "cell_type": "markdown",
   "id": "f2376081-d388-4a07-821e-0355b802350d",
   "metadata": {},
   "source": [
    "## How do we do this?"
   ]
  },
  {
   "cell_type": "markdown",
   "id": "b00a223f-513e-43e5-8887-f09f8c833c86",
   "metadata": {},
   "source": [
    "We need to be able to recognize in a video if a person is talking.\n",
    "\n",
    "So:\n",
    "1. Use a Face recognition model to label videos\n",
    "2. Use a [Speech recognition](https://huggingface.co/models?pipeline_tag=automatic-speech-recognition) model to label videos \n",
    "3. Train a model on a dataset of vlogs pulled from Youtube labeled by 1) and 2) when a person is talking.\n",
    "4. When predicting for a video with multiple people we will do this:\n",
    "   1. Cut out a portion on each person's face\n",
    "   2. Give it to the model we trained on 3) and it will tell us for each person if he is speaking.\n",
    "   3. We zoom in so that all the speaking people are talking\n",
    "   4. Profit "
   ]
  },
  {
   "cell_type": "code",
   "execution_count": null,
   "id": "1bef904e-3e05-45f1-876a-b25d609b3550",
   "metadata": {},
   "outputs": [],
   "source": []
  }
 ],
 "metadata": {
  "kernelspec": {
   "display_name": "Python 3 (ipykernel)",
   "language": "python",
   "name": "python3"
  },
  "language_info": {
   "codemirror_mode": {
    "name": "ipython",
    "version": 3
   },
   "file_extension": ".py",
   "mimetype": "text/x-python",
   "name": "python",
   "nbconvert_exporter": "python",
   "pygments_lexer": "ipython3",
   "version": "3.11.5"
  }
 },
 "nbformat": 4,
 "nbformat_minor": 5
}
